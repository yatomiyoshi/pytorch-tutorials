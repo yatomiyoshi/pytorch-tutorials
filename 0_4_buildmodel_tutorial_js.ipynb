{
  "nbformat": 4,
  "nbformat_minor": 0,
  "metadata": {
    "colab": {
      "provenance": [],
      "authorship_tag": "ABX9TyPiuQ/SyBLZUtr6lC1/+4qb",
      "include_colab_link": true
    },
    "kernelspec": {
      "name": "python3",
      "display_name": "Python 3"
    },
    "language_info": {
      "name": "python"
    }
  },
  "cells": [
    {
      "cell_type": "markdown",
      "metadata": {
        "id": "view-in-github",
        "colab_type": "text"
      },
      "source": [
        "<a href=\"https://colab.research.google.com/github/yatomiyoshi/pytorch-tutorials/blob/main/0_4_buildmodel_tutorial_js.ipynb\" target=\"_parent\"><img src=\"https://colab.research.google.com/assets/colab-badge.svg\" alt=\"Open In Colab\"/></a>"
      ]
    },
    {
      "cell_type": "code",
      "execution_count": null,
      "metadata": {
        "id": "6jja4soN0FYa"
      },
      "outputs": [],
      "source": [
        "%matplotlib inline"
      ]
    },
    {
      "cell_type": "code",
      "source": [
        "import os\n",
        "import torch\n",
        "from torch import nn\n",
        "from torch.utils.data import DataLoader\n",
        "from torchvision import datasets, transforms"
      ],
      "metadata": {
        "id": "JRgkhBxr0K0c"
      },
      "execution_count": null,
      "outputs": []
    },
    {
      "cell_type": "code",
      "source": [
        "device = 'cuda' if torch.cuda.is_available() else 'cpu'\n",
        "print('Using {} device'.format(device))"
      ],
      "metadata": {
        "colab": {
          "base_uri": "https://localhost:8080/"
        },
        "id": "lJj8n3dw0Vex",
        "outputId": "c2ab1237-2243-4a34-af8c-6d965c34c23b"
      },
      "execution_count": null,
      "outputs": [
        {
          "output_type": "stream",
          "name": "stdout",
          "text": [
            "Using cpu device\n"
          ]
        }
      ]
    },
    {
      "cell_type": "code",
      "source": [
        "class NeuralNetwork(nn.Module):\n",
        "  def __init__(self):\n",
        "    super(NeuralNetwork, self).__init__()\n",
        "    self.flatten = nn.Flatten()\n",
        "    self.linear_relu_stack = nn.Sequential(\n",
        "        nn.Linear(28*28, 512),\n",
        "        nn.ReLU(),\n",
        "        nn.Linear(512, 512),\n",
        "        nn.ReLU(),\n",
        "        nn.Linear(512, 10),\n",
        "        nn.ReLU()\n",
        "    )\n",
        "\n",
        "  def forward(self, x):\n",
        "    x = self.flatten(x)\n",
        "    logits = self.linear_relu_stack(x)\n",
        "    return logits"
      ],
      "metadata": {
        "id": "BqqRyByz0itl"
      },
      "execution_count": null,
      "outputs": []
    },
    {
      "cell_type": "code",
      "source": [
        "model = NeuralNetwork().to(device)\n",
        "print(model)"
      ],
      "metadata": {
        "colab": {
          "base_uri": "https://localhost:8080/"
        },
        "id": "m4wOMjSb3S9l",
        "outputId": "2edec6c9-a142-4200-fe66-b49ccb9bc50a"
      },
      "execution_count": null,
      "outputs": [
        {
          "output_type": "stream",
          "name": "stdout",
          "text": [
            "NeuralNetwork(\n",
            "  (flatten): Flatten(start_dim=1, end_dim=-1)\n",
            "  (linear_relu_stack): Sequential(\n",
            "    (0): Linear(in_features=784, out_features=512, bias=True)\n",
            "    (1): ReLU()\n",
            "    (2): Linear(in_features=512, out_features=512, bias=True)\n",
            "    (3): ReLU()\n",
            "    (4): Linear(in_features=512, out_features=10, bias=True)\n",
            "    (5): ReLU()\n",
            "  )\n",
            ")\n"
          ]
        }
      ]
    },
    {
      "cell_type": "code",
      "source": [
        "X = torch.rand(1, 28, 28, device=device)\n",
        "logits = model(X)\n",
        "pred_probab = nn.Softmax(dim=1)(logits)\n",
        "y_pred = pred_probab.argmax(1)\n",
        "print(f\"Predicted class: {y_pred}\")"
      ],
      "metadata": {
        "colab": {
          "base_uri": "https://localhost:8080/"
        },
        "id": "XFeJPgRU3bta",
        "outputId": "d77b2580-6804-4708-9a79-e9259b63f3de"
      },
      "execution_count": null,
      "outputs": [
        {
          "output_type": "stream",
          "name": "stdout",
          "text": [
            "Predicted class: tensor([5])\n"
          ]
        }
      ]
    },
    {
      "cell_type": "code",
      "source": [
        "input_image = torch.rand(3,28,28)\n",
        "print(input_image.size())"
      ],
      "metadata": {
        "colab": {
          "base_uri": "https://localhost:8080/"
        },
        "id": "jAPlZmK536Ky",
        "outputId": "a0611107-0e0f-4fbf-d6a5-f93d924d2f4c"
      },
      "execution_count": null,
      "outputs": [
        {
          "output_type": "stream",
          "name": "stdout",
          "text": [
            "torch.Size([3, 28, 28])\n"
          ]
        }
      ]
    },
    {
      "cell_type": "code",
      "source": [
        "flatten = nn.Flatten()\n",
        "flat_image = flatten(input_image)\n",
        "print(flat_image.size())"
      ],
      "metadata": {
        "colab": {
          "base_uri": "https://localhost:8080/"
        },
        "id": "Q8T5T4IS4N-Z",
        "outputId": "aeaa7942-8df1-430c-d9eb-deab6199c504"
      },
      "execution_count": null,
      "outputs": [
        {
          "output_type": "stream",
          "name": "stdout",
          "text": [
            "torch.Size([3, 784])\n"
          ]
        }
      ]
    },
    {
      "cell_type": "code",
      "source": [
        "layer1 = nn.Linear(in_features=28*28, out_features=20)\n",
        "hidden1 = layer1(flat_image)\n",
        "print(hidden1.size())"
      ],
      "metadata": {
        "colab": {
          "base_uri": "https://localhost:8080/"
        },
        "id": "g8emGd0Q4WrE",
        "outputId": "56fd5d39-c3a5-4ece-a632-35043aaafec4"
      },
      "execution_count": null,
      "outputs": [
        {
          "output_type": "stream",
          "name": "stdout",
          "text": [
            "torch.Size([3, 20])\n"
          ]
        }
      ]
    },
    {
      "cell_type": "code",
      "source": [
        "print(f\"Before ReLU: {hidden1}\\n\\n\")\n",
        "hidden1 = nn.ReLU()(hidden1)\n",
        "print(f\"After ReLU: {hidden1}\")"
      ],
      "metadata": {
        "colab": {
          "base_uri": "https://localhost:8080/"
        },
        "id": "fPUeiCzw4nlO",
        "outputId": "544328d3-776f-416c-b284-8b9da829530d"
      },
      "execution_count": null,
      "outputs": [
        {
          "output_type": "stream",
          "name": "stdout",
          "text": [
            "Before ReLU: tensor([[-0.2852, -0.2380,  0.0788,  0.1649,  0.5163, -0.1137, -0.1723, -0.3590,\n",
            "         -0.1483, -0.3398, -0.2632,  0.5002,  0.5604, -0.3218,  0.1914,  0.0742,\n",
            "          0.0008,  0.5156,  0.4884,  0.2024],\n",
            "        [-0.2494, -0.0229,  0.4048, -0.2188,  0.7815,  0.1478, -0.3006, -0.2534,\n",
            "         -0.3619, -0.0267, -0.1613,  0.3637,  0.6914, -0.1007,  0.1953,  0.0564,\n",
            "          0.6922,  0.4660,  0.0372, -0.0944],\n",
            "        [-0.2279,  0.0790,  0.1106,  0.1116,  0.6171,  0.0772, -0.4093, -0.2164,\n",
            "         -0.4703, -0.1454, -0.0948,  0.3110,  0.5276, -0.0388,  0.2696, -0.0367,\n",
            "          0.3256,  0.5166,  0.7131,  0.3458]], grad_fn=<AddmmBackward0>)\n",
            "\n",
            "\n",
            "After ReLU: tensor([[0.0000, 0.0000, 0.0788, 0.1649, 0.5163, 0.0000, 0.0000, 0.0000, 0.0000,\n",
            "         0.0000, 0.0000, 0.5002, 0.5604, 0.0000, 0.1914, 0.0742, 0.0008, 0.5156,\n",
            "         0.4884, 0.2024],\n",
            "        [0.0000, 0.0000, 0.4048, 0.0000, 0.7815, 0.1478, 0.0000, 0.0000, 0.0000,\n",
            "         0.0000, 0.0000, 0.3637, 0.6914, 0.0000, 0.1953, 0.0564, 0.6922, 0.4660,\n",
            "         0.0372, 0.0000],\n",
            "        [0.0000, 0.0790, 0.1106, 0.1116, 0.6171, 0.0772, 0.0000, 0.0000, 0.0000,\n",
            "         0.0000, 0.0000, 0.3110, 0.5276, 0.0000, 0.2696, 0.0000, 0.3256, 0.5166,\n",
            "         0.7131, 0.3458]], grad_fn=<ReluBackward0>)\n"
          ]
        }
      ]
    },
    {
      "cell_type": "code",
      "source": [],
      "metadata": {
        "id": "9D5Wjfn_4-UG"
      },
      "execution_count": null,
      "outputs": []
    }
  ]
}